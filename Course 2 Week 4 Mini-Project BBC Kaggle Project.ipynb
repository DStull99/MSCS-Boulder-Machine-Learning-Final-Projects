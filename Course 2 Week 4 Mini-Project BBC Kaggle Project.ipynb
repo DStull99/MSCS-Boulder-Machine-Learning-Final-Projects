{
 "cells": [
  {
   "cell_type": "code",
   "execution_count": null,
   "metadata": {},
   "outputs": [],
   "source": [
    "# Necessary imports for this project\n",
    "import pandas as pd \n",
    "import numpy as np \n",
    "from sklearn.decomposition import "
   ]
  }
 ],
 "metadata": {
  "language_info": {
   "name": "python"
  }
 },
 "nbformat": 4,
 "nbformat_minor": 2
}
